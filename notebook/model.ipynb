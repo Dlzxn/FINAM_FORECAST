{
 "cells": [
  {
   "cell_type": "code",
   "id": "initial_id",
   "metadata": {
    "collapsed": true,
    "ExecuteTime": {
     "end_time": "2025-10-03T16:56:50.867157Z",
     "start_time": "2025-10-03T16:56:06.070507Z"
    }
   },
   "source": [
    "!uv add pytorch\n",
    "!uv add scikit-learn"
   ],
   "outputs": [
    {
     "name": "stdout",
     "output_type": "stream",
     "text": [
      "\u001B[2K\u001B[2mResolved \u001B[1m17 packages\u001B[0m \u001B[2min 669ms\u001B[0m\u001B[0m                                        \u001B[0m\r\n",
      "\u001B[2K  \u001B[31m×\u001B[0m Failed to build `pytorch==1.0.2`)                                                   \r\n",
      "\u001B[31m  ├─▶ \u001B[0mThe build backend returned an error\r\n",
      "\u001B[31m  ╰─▶ \u001B[0mCall to `setuptools.build_meta:__legacy__.build_wheel` failed (exit\r\n",
      "\u001B[31m      \u001B[0mstatus: 1)\r\n",
      "\r\n",
      "\u001B[31m      \u001B[0m\u001B[31m[stderr]\u001B[39m\r\n",
      "\u001B[31m      \u001B[0mTraceback (most recent call last):\r\n",
      "\u001B[31m      \u001B[0m  File \u001B[35m\"<string>\"\u001B[0m, line \u001B[35m11\u001B[0m, in \u001B[35m<module>\u001B[0m\r\n",
      "\u001B[31m      \u001B[0m    wheel_filename =\r\n",
      "\u001B[31m      \u001B[0mbackend.build_wheel(\"/home/alex/.cache/uv/builds-v0/.tmpczYnWh\", {},\r\n",
      "\u001B[31m      \u001B[0mNone)\r\n",
      "\u001B[31m      \u001B[0m  File\r\n",
      "\u001B[31m      \u001B[0m\u001B[35m\"/home/alex/.cache/uv/builds-v0/.tmp1qdshQ/lib/python3.13/site-packages/setuptools/build_meta.py\"\u001B[0m,\r\n",
      "\u001B[31m      \u001B[0mline \u001B[35m432\u001B[0m, in \u001B[35mbuild_wheel\u001B[0m\r\n",
      "\u001B[31m      \u001B[0m    return _build(['bdist_wheel'])\r\n",
      "\u001B[31m      \u001B[0m  File\r\n",
      "\u001B[31m      \u001B[0m\u001B[35m\"/home/alex/.cache/uv/builds-v0/.tmp1qdshQ/lib/python3.13/site-packages/setuptools/build_meta.py\"\u001B[0m,\r\n",
      "\u001B[31m      \u001B[0mline \u001B[35m423\u001B[0m, in \u001B[35m_build\u001B[0m\r\n",
      "\u001B[31m      \u001B[0m    return \u001B[31mself._build_with_temp_dir\u001B[0m\u001B[1;31m(\u001B[0m\r\n",
      "\u001B[31m      \u001B[0m           \u001B[31m~~~~~~~~~~~~~~~~~~~~~~~~~\u001B[0m\u001B[1;31m^\u001B[0m\r\n",
      "\u001B[31m      \u001B[0m        \u001B[1;31mcmd,\u001B[0m\r\n",
      "\u001B[31m      \u001B[0m        \u001B[1;31m^^^^\u001B[0m\r\n",
      "\u001B[31m      \u001B[0m    ...<3 lines>...\r\n",
      "\u001B[31m      \u001B[0m        \u001B[1;31mself._arbitrary_args(config_settings),\u001B[0m\r\n",
      "\u001B[31m      \u001B[0m        \u001B[1;31m^^^^^^^^^^^^^^^^^^^^^^^^^^^^^^^^^^^^^^\u001B[0m\r\n",
      "\u001B[31m      \u001B[0m    \u001B[1;31m)\u001B[0m\r\n",
      "\u001B[31m      \u001B[0m    \u001B[1;31m^\u001B[0m\r\n",
      "\u001B[31m      \u001B[0m  File\r\n",
      "\u001B[31m      \u001B[0m\u001B[35m\"/home/alex/.cache/uv/builds-v0/.tmp1qdshQ/lib/python3.13/site-packages/setuptools/build_meta.py\"\u001B[0m,\r\n",
      "\u001B[31m      \u001B[0mline \u001B[35m404\u001B[0m, in \u001B[35m_build_with_temp_dir\u001B[0m\r\n",
      "\u001B[31m      \u001B[0m    \u001B[31mself.run_setup\u001B[0m\u001B[1;31m()\u001B[0m\r\n",
      "\u001B[31m      \u001B[0m    \u001B[31m~~~~~~~~~~~~~~\u001B[0m\u001B[1;31m^^\u001B[0m\r\n",
      "\u001B[31m      \u001B[0m  File\r\n",
      "\u001B[31m      \u001B[0m\u001B[35m\"/home/alex/.cache/uv/builds-v0/.tmp1qdshQ/lib/python3.13/site-packages/setuptools/build_meta.py\"\u001B[0m,\r\n",
      "\u001B[31m      \u001B[0mline \u001B[35m512\u001B[0m, in \u001B[35mrun_setup\u001B[0m\r\n",
      "\u001B[31m      \u001B[0m    \u001B[31msuper().run_setup\u001B[0m\u001B[1;31m(setup_script=setup_script)\u001B[0m\r\n",
      "\u001B[31m      \u001B[0m    \u001B[31m~~~~~~~~~~~~~~~~~\u001B[0m\u001B[1;31m^^^^^^^^^^^^^^^^^^^^^^^^^^^\u001B[0m\r\n",
      "\u001B[31m      \u001B[0m  File\r\n",
      "\u001B[31m      \u001B[0m\u001B[35m\"/home/alex/.cache/uv/builds-v0/.tmp1qdshQ/lib/python3.13/site-packages/setuptools/build_meta.py\"\u001B[0m,\r\n",
      "\u001B[31m      \u001B[0mline \u001B[35m317\u001B[0m, in \u001B[35mrun_setup\u001B[0m\r\n",
      "\u001B[31m      \u001B[0m    \u001B[31mexec\u001B[0m\u001B[1;31m(code, locals())\u001B[0m\r\n",
      "\u001B[31m      \u001B[0m    \u001B[31m~~~~\u001B[0m\u001B[1;31m^^^^^^^^^^^^^^^^\u001B[0m\r\n",
      "\u001B[31m      \u001B[0m  File \u001B[35m\"<string>\"\u001B[0m, line \u001B[35m15\u001B[0m, in \u001B[35m<module>\u001B[0m\r\n",
      "\u001B[31m      \u001B[0m\u001B[1;35mException\u001B[0m: \u001B[35mYou tried to install \"pytorch\". The package named for PyTorch\r\n",
      "\u001B[31m      \u001B[0mis \"torch\"\u001B[0m\r\n",
      "\r\n",
      "\u001B[31m      \u001B[0m\u001B[36m\u001B[1mhint\u001B[0m\u001B[39m\u001B[1m:\u001B[0m This usually indicates a problem with the package or the build\r\n",
      "\u001B[31m      \u001B[0menvironment.\r\n",
      "\u001B[36m  help: \u001B[0mIf you want to add the package regardless of the failed resolution,\r\n",
      "        provide the `\u001B[32m--frozen\u001B[39m` flag to skip locking and syncing.\r\n",
      "\u001B[2K\u001B[2mResolved \u001B[1m20 packages\u001B[0m \u001B[2min 641ms\u001B[0m\u001B[0m                                        \u001B[0m\r\n",
      "\u001B[2K\u001B[2mPrepared \u001B[1m2 packages\u001B[0m \u001B[2min 41.97s\u001B[0m\u001B[0m                                            \r\n",
      "\u001B[2K\u001B[2mInstalled \u001B[1m4 packages\u001B[0m \u001B[2min 33ms\u001B[0m\u001B[0m                                \u001B[0m\r\n",
      " \u001B[32m+\u001B[39m \u001B[1mjoblib\u001B[0m\u001B[2m==1.5.2\u001B[0m\r\n",
      " \u001B[32m+\u001B[39m \u001B[1mscikit-learn\u001B[0m\u001B[2m==1.7.2\u001B[0m\r\n",
      " \u001B[32m+\u001B[39m \u001B[1mscipy\u001B[0m\u001B[2m==1.16.2\u001B[0m\r\n",
      " \u001B[32m+\u001B[39m \u001B[1mthreadpoolctl\u001B[0m\u001B[2m==3.6.0\u001B[0m\r\n"
     ]
    }
   ],
   "execution_count": 1
  },
  {
   "metadata": {},
   "cell_type": "code",
   "outputs": [],
   "execution_count": null,
   "source": "",
   "id": "e42bd686a4a79c08"
  }
 ],
 "metadata": {
  "kernelspec": {
   "display_name": "Python 3",
   "language": "python",
   "name": "python3"
  },
  "language_info": {
   "codemirror_mode": {
    "name": "ipython",
    "version": 2
   },
   "file_extension": ".py",
   "mimetype": "text/x-python",
   "name": "python",
   "nbconvert_exporter": "python",
   "pygments_lexer": "ipython2",
   "version": "2.7.6"
  }
 },
 "nbformat": 4,
 "nbformat_minor": 5
}
